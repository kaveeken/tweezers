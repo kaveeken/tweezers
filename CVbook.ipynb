{
 "cells": [
  {
   "cell_type": "markdown",
   "metadata": {},
   "source": [
    "# Bulk analysis of constant velocity experiments\n",
    "In this notebook we take a large number of constant velocity traces and inspect each of them for:\n",
    "- Unfolding events\n",
    "- Experimental errors\n",
    "  - Multiple tethers\n",
    "  - Bead loss\n",
    "\n",
    "After which we determine the contour lengths of unfolded domains as well as their unfolding forces, by fitting each curve with Odijk and Marko-Siggia models (for DNA handles and unfolded protein respectively).\n",
    "\n",
    "This is very much a work in progress and there are some things to keep in mind (also a todo/fix list):\n",
    "- For now, fdcurves have to inlcude both the pulling and relaxation parts, even if we only care about the pull.\n",
    "- The error-finding capabilities are not yet proben to be effective.\n",
    "- There is no error-handling and limited sanity-checking: the notebook can fail silently and in unexpected ways."
   ]
  },
  {
   "cell_type": "code",
   "execution_count": 1,
   "metadata": {},
   "outputs": [],
   "source": [
    "import lumicks.pylake as lk\n",
    "import numpy as np\n",
    "from matplotlib import pyplot as plt\n",
    "\n",
    "from curve import Curve"
   ]
  },
  {
   "cell_type": "markdown",
   "metadata": {},
   "source": [
    "## Defining models\n",
    "\n",
    "Here we define our models. As long as the below estimates correspond, you should be able to change these. The name strings (```'handles'``` and ```'protein'```) feature as part of parameter names and these should stay consistent."
   ]
  },
  {
   "cell_type": "code",
   "execution_count": 2,
   "metadata": {},
   "outputs": [],
   "source": [
    "# these dont have to be build functions anymore, can just be model objects\n",
    "def build_handles_model():\n",
    "    return lk.inverted_odijk('handles') + lk.force_offset('handles')\n",
    "def build_composite_model():\n",
    "    comp_wrt_f = lk.odijk('handles') + lk.inverted_marko_siggia_simplified('protein')\n",
    "    return comp_wrt_f.invert(interpolate = True, \n",
    "                             independent_min = 0,\n",
    "                             independent_max = 90) + lk.force_offset('handles')"
   ]
  },
  {
   "cell_type": "markdown",
   "metadata": {},
   "source": [
    "## Providing estimates"
   ]
  },
  {
   "cell_type": "markdown",
   "metadata": {},
   "source": [
    "Here we provide some initial guesses for the model parameters in a dictionary format.\n",
    "\n",
    "For each parameter, the possible entries are ```'value'```, ```'upper_bound'```, ```'lower_bound'``` and ```'fixed'```, where the latter fixes the parameter value to that in the 'value' field."
   ]
  },
  {
   "cell_type": "code",
   "execution_count": 3,
   "metadata": {},
   "outputs": [],
   "source": [
    "from build_config import bp2cl\n",
    "\n",
    "handle_estimates = \\\n",
    "    {'handles/Lp':  # DNA handle persistence length (nm)\n",
    "      {'value': 15,  # initial estimate\n",
    "       'upper_bound': 100,  # very wide bounds?\n",
    "       'lower_bound': 0.0},\n",
    "     'handles/Lc':  # contour length (um)\n",
    "      {'value': bp2cl(1040)},  # bp2cl generates a contour length from a number of basepairs.\n",
    "     'handles/St':  # stretch modulus (pN)\n",
    "      {'value': 300,\n",
    "       'lower_bound': 250},\n",
    "     'handles/f_offset':  # force offset (pN)\n",
    "      {'value': 0,\n",
    "       'upper_bound': 6,\n",
    "       'lower_bound': -6,\n",
    "       'fixed': True}  # if True, the parameter is fixed to the current 'value' field.\n",
    "    }                 # here we use this entry to turn off the force offset included in the model\n",
    "protein_estimates = \\\n",
    "     {'protein/Lp':  # unfolded protein persistence length (nm)\n",
    "      {'value': 0.7,\n",
    "      'upper_bound': 1.0,\n",
    "      'lower_bound': 0.6,\n",
    "      'fixed': False},\n",
    "     'protein/Lc':  # contour length (um)\n",
    "      {'value': 0.01,\n",
    "       'fixed': False}\n",
    "     }"
   ]
  },
  {
   "cell_type": "markdown",
   "metadata": {},
   "source": [
    "## Providing data\n",
    "To enter your data, replace the 'filename' fields with paths to your .h5 files, and include the names for your corresponding fdcurves in the list after 'curve_ids'. Each entry in the datasets list should look something like this:\n",
    "```\n",
    "{'filename' : 'PATH/TO/FILE.h5', 'curve_ids': ['CURVE1', 'CURVE2', 'CURVE3']}\n",
    "```\n",
    "Each fdcurve will be assigned a Curve object, which holds the force and distance data and has functions we will use to analyze the it.\n",
    "\n",
    "We can use the ```PRUNE_ZEROS``` option below if we suspect datapoints with a distance measurement of zero or less. ```PREPEND_FILENAME``` determines if we prepend the origin filename to each curve id in order to enforce unique identifiers. Overlapping identifiers will result in only one of the affected fdcurves being analyzed.\n",
    "\n",
    "From here the notebook should be able to run without user input."
   ]
  },
  {
   "cell_type": "code",
   "execution_count": 4,
   "metadata": {},
   "outputs": [],
   "source": [
    "# should add the option to include all fdcurves found in a file\n",
    "datasets = [{'filename': 'Data/adk5_curve1.h5', 'curve_ids': ['adk5_curve1']},\n",
    "            {'filename': 'Data/adk5_curve2.h5', 'curve_ids': ['adk5_curve2']},\n",
    "            {'filename': 'Data/adk5_curve3.h5', 'curve_ids': ['adk5_curve3']}]\n",
    "PRUNE_ZEROS = True\n",
    "PREPEND_FILENAME = False"
   ]
  },
  {
   "cell_type": "code",
   "execution_count": 5,
   "metadata": {},
   "outputs": [],
   "source": [
    "fdcurves = {}\n",
    "for dataset in datasets:\n",
    "    data = lk.File(dataset['filename'])\n",
    "    #print(data.fdcurves)\n",
    "    for curve_id in dataset['curve_ids']:\n",
    "        original = data.fdcurves[curve_id]\n",
    "        fdata = data.fdcurves[curve_id].f.data\n",
    "        ddata = data.fdcurves[curve_id].d.data\n",
    "        if PRUNE_ZEROS:\n",
    "            fdata = fdata[ddata > 0]\n",
    "            ddata = ddata[ddata > 0]\n",
    "        if PREPEND_FILENAME:\n",
    "            curve_id = dataset['filename'] + ':' + curve_id\n",
    "        fdcurves[curve_id] = Curve(curve_id, ddata, fdata)\n",
    "        # we don't need the id in two different places"
   ]
  },
  {
   "cell_type": "markdown",
   "metadata": {},
   "source": [
    "If for some reason you want to add simulated data, run this cell with ```DEBUG = True```. The simulations are a bit off. The arguments ```generate_fd``` takes are:\n",
    "- the distance at which the first unfolding event happens\n",
    "- a list containing unfolding domain contour lengths\n",
    "- dna handle and protein parameter estimates in the same format as above\n",
    "\n",
    "If you have any other sources of data, you can similarly include them by adding more Curve objects to the fdcurves dictionary. This would look like the following:\n",
    "```\n",
    "fdcurves[ID] = Curve(ID, DISTANCE_DATA, FORCE_DATA)\n",
    "```"
   ]
  },
  {
   "cell_type": "code",
   "execution_count": 6,
   "metadata": {},
   "outputs": [],
   "source": [
    "from simulate import generate_fd\n",
    "DEBUG = False\n",
    "\n",
    "if DEBUG:\n",
    "    # multiple unfold cases\n",
    "    dist_unfold = 0.38\n",
    "    clslist = [[0.025], [0.015, 0.030], [0.01, 0.02, 0.03]]\n",
    "    for index, cls in enumerate(clslist):\n",
    "        curve_id = f'simulation_{index}'\n",
    "        fdcurves[curve_id] = \\\n",
    "            Curve(curve_id, *generate_fd(dist_unfold, cls, handle_estimates, protein_estimates))\n",
    "    # lost bead case\n",
    "    dist, force = generate_fd(0.38, [0.025], handle_estimates, protein_estimates)\n",
    "    force[1800:] = 0\n",
    "    fdcurves['sim_loss'] = Curve('sim_loss', dist, force)"
   ]
  },
  {
   "cell_type": "markdown",
   "metadata": {},
   "source": [
    "## Bead loss errors\n",
    "Data featuring force suddenly dropping to zero can dramatically slow down the event-finding and fitting steps, so we filter those out first. Other error-finding operations depend on the events found below and will happen later."
   ]
  },
  {
   "cell_type": "code",
   "execution_count": 7,
   "metadata": {},
   "outputs": [],
   "source": [
    "lost_bead_fdcurves = {}\n",
    "for curve_id, curve in fdcurves.items():\n",
    "    if curve.filter_bead_loss():\n",
    "        lost_bead_fdcurves[curve_id] = curve\n",
    "for curve_id in lost_bead_fdcurves.keys():\n",
    "    print(curve_id)\n",
    "    fdcurves.pop(curve_id)"
   ]
  },
  {
   "cell_type": "markdown",
   "metadata": {},
   "source": [
    "## Event-finding\n",
    "Here we try to find unfolding events, stationary/turning points and start-points. Unfolding events are recognized through a sharp dip in the force over time graph, and stationary/turning points by a sharp dip in the force's local variance. Start-points are determined by where the system's force first exceeds the ```STARTING_FORCE``` argument of the find_events function, which defaults to 0.\n",
    "\n",
    "Curves are then split into 'legs' of datapoints between events, and those legs are used to fit our different models. The ```SHOW_PLOTS``` option produces a plot for each curve, showing the different events and legs.\n",
    "\n",
    "Further (optional) arguments for the ```find_events``` function are:\n",
    "- ```CORDON```, which determines how many datapoints directly before and after an event we exclude from fitting. Defaults to 10,\n",
    "- ```FIT_ON_RETURN```, describes which part of the relaxation curve we mark for fitting. Defaults to an empty tuple, ignoring the relaxation curve. Valid input is a tuple like ```(WHEN, NUMBER)``` indicating how far after the return point to start fitting, and how many points to include.\n",
    "\n",
    "```SHOW_PLOTS``` determines whether to show plots highlighting the different events and legs for each curve."
   ]
  },
  {
   "cell_type": "code",
   "execution_count": null,
   "metadata": {},
   "outputs": [],
   "source": [
    "SHOW_PLOTS = True\n",
    "\n",
    "for curve in fdcurves.values():\n",
    "    curve.find_events()\n",
    "    if SHOW_PLOTS:\n",
    "        curve.plot_events()\n",
    "# plot force over time (or number of measurements)\n",
    "# green: fitted leg, orange: unfold event, red: return/stationary point"
   ]
  },
  {
   "cell_type": "markdown",
   "metadata": {},
   "source": [
    "## Error-finding\n",
    "##### Multiple tethers\n",
    "We filter multiple tethers comparison of the model as given in the estimates, with exaggerated parameters or data. The tests we perform include:\n",
    "- A doubled persistence length\n",
    "- A halved contour length\n",
    "- Halved force data\n",
    "- Doubled distance data\n",
    "\n",
    "These should in theory test the single-tether case against the double-tether case. For a greater number of tethers we assume a double-tether model would fit better than a single-tether one. We compare the resulting BICs to determine pass or fail. We also compute Bayes factors for relative likelihood comparisons, but those turn out rather extreme.\n",
    "\n",
    "Doubling the persistence length yields false positives and does not seem to be a good way to approximate a double tether. Some higher factor would probably work but for now we can just ignore that test.\n",
    "\n",
    "We may want to hide some of this code behind an import\n",
    "\n",
    "Halving contour length appears functionally identical to doubling the distance data, so we can do away with one."
   ]
  },
  {
   "cell_type": "code",
   "execution_count": 9,
   "metadata": {},
   "outputs": [
    {
     "name": "stdout",
     "output_type": "stream",
     "text": [
      "adk5_curve1\n"
     ]
    },
    {
     "ename": "AttributeError",
     "evalue": "'Curve' object has no attribute 'legs'",
     "output_type": "error",
     "traceback": [
      "\u001b[0;31m---------------------------------------------------------------------------\u001b[0m",
      "\u001b[0;31mAttributeError\u001b[0m                            Traceback (most recent call last)",
      "\u001b[0;32m<ipython-input-9-9cfa59ba4c4c>\u001b[0m in \u001b[0;36m<module>\u001b[0;34m\u001b[0m\n\u001b[1;32m     13\u001b[0m \u001b[0;32mfor\u001b[0m \u001b[0mcurve\u001b[0m \u001b[0;32min\u001b[0m \u001b[0mfdcurves\u001b[0m\u001b[0;34m.\u001b[0m\u001b[0mvalues\u001b[0m\u001b[0;34m(\u001b[0m\u001b[0;34m)\u001b[0m\u001b[0;34m:\u001b[0m\u001b[0;34m\u001b[0m\u001b[0;34m\u001b[0m\u001b[0m\n\u001b[1;32m     14\u001b[0m     \u001b[0mprint\u001b[0m\u001b[0;34m(\u001b[0m\u001b[0mcurve\u001b[0m\u001b[0;34m.\u001b[0m\u001b[0midentifier\u001b[0m\u001b[0;34m)\u001b[0m\u001b[0;34m\u001b[0m\u001b[0;34m\u001b[0m\u001b[0m\n\u001b[0;32m---> 15\u001b[0;31m     \u001b[0mcurve\u001b[0m\u001b[0;34m.\u001b[0m\u001b[0mfilter_tethers\u001b[0m\u001b[0;34m(\u001b[0m\u001b[0mbuild_handles_model\u001b[0m\u001b[0;34m(\u001b[0m\u001b[0;34m)\u001b[0m\u001b[0;34m,\u001b[0m \u001b[0mtest_estimates\u001b[0m\u001b[0;34m)\u001b[0m\u001b[0;34m\u001b[0m\u001b[0;34m\u001b[0m\u001b[0m\n\u001b[0m",
      "\u001b[0;32m~/proj/tweezers/curve.py\u001b[0m in \u001b[0;36mfilter_tethers\u001b[0;34m(self, model, estimates_dict, VERBOSE)\u001b[0m\n\u001b[1;32m    106\u001b[0m         \"\"\"\n\u001b[1;32m    107\u001b[0m         \u001b[0mfits\u001b[0m \u001b[0;34m=\u001b[0m \u001b[0;34m{\u001b[0m\u001b[0mtest_id\u001b[0m\u001b[0;34m:\u001b[0m \u001b[0mlk\u001b[0m\u001b[0;34m.\u001b[0m\u001b[0mFdFit\u001b[0m\u001b[0;34m(\u001b[0m\u001b[0mmodel\u001b[0m\u001b[0;34m)\u001b[0m \u001b[0;32mfor\u001b[0m \u001b[0mtest_id\u001b[0m \u001b[0;32min\u001b[0m \u001b[0mestimates_dict\u001b[0m\u001b[0;34m.\u001b[0m\u001b[0mkeys\u001b[0m\u001b[0;34m(\u001b[0m\u001b[0;34m)\u001b[0m\u001b[0;34m}\u001b[0m\u001b[0;34m\u001b[0m\u001b[0;34m\u001b[0m\u001b[0m\n\u001b[0;32m--> 108\u001b[0;31m         \u001b[0mhandle_forces\u001b[0m \u001b[0;34m=\u001b[0m \u001b[0mself\u001b[0m\u001b[0;34m.\u001b[0m\u001b[0mforce_data\u001b[0m\u001b[0;34m[\u001b[0m\u001b[0mself\u001b[0m\u001b[0;34m.\u001b[0m\u001b[0mlegs\u001b[0m\u001b[0;34m[\u001b[0m\u001b[0;36m0\u001b[0m\u001b[0;34m]\u001b[0m\u001b[0;34m]\u001b[0m\u001b[0;34m\u001b[0m\u001b[0;34m\u001b[0m\u001b[0m\n\u001b[0m\u001b[1;32m    109\u001b[0m         \u001b[0mhandle_dists\u001b[0m \u001b[0;34m=\u001b[0m \u001b[0mself\u001b[0m\u001b[0;34m.\u001b[0m\u001b[0mdist_data\u001b[0m\u001b[0;34m[\u001b[0m\u001b[0mself\u001b[0m\u001b[0;34m.\u001b[0m\u001b[0mlegs\u001b[0m\u001b[0;34m[\u001b[0m\u001b[0;36m0\u001b[0m\u001b[0;34m]\u001b[0m\u001b[0;34m]\u001b[0m\u001b[0;34m\u001b[0m\u001b[0;34m\u001b[0m\u001b[0m\n\u001b[1;32m    110\u001b[0m \u001b[0;34m\u001b[0m\u001b[0m\n",
      "\u001b[0;31mAttributeError\u001b[0m: 'Curve' object has no attribute 'legs'"
     ]
    }
   ],
   "source": [
    "from copy import deepcopy\n",
    "\n",
    "original = handle_estimates\n",
    "double_Lp = deepcopy(original)\n",
    "half_Lc = deepcopy(original)\n",
    "double_Lp['handles/Lp']['value'] = original['handles/Lp']['value'] * 2\n",
    "half_Lc['handles/Lc']['value'] = original['handles/Lc']['value'] / 2\n",
    "\n",
    "test_estimates = {'original': original, 'double_Lp': double_Lp, \n",
    "                  'half_Lc': half_Lc, 'half_force': original,\n",
    "                  'double_dist': original}\n",
    "\n",
    "for curve in fdcurves.values():\n",
    "    print(curve.identifier)\n",
    "    curve.filter_tethers(build_handles_model(), test_estimates)"
   ]
  },
  {
   "cell_type": "markdown",
   "metadata": {},
   "source": [
    "## Fitting\n",
    "\n",
    "Here we fit our models. We first define fits for each unfolding event, and proliferate a single fit of the DNA handles parameters to each of them. After that, we fit the remaining protein parameters with the legs we defined before. The third cell draws plots and shows parameter summaries for each curve."
   ]
  },
  {
   "cell_type": "code",
   "execution_count": null,
   "metadata": {},
   "outputs": [],
   "source": [
    "for curve in fdcurves.values():\n",
    "    curve.initialize_fits(build_handles_model(),\n",
    "                         build_composite_model(),\n",
    "                         handle_estimates)"
   ]
  },
  {
   "cell_type": "code",
   "execution_count": null,
   "metadata": {},
   "outputs": [],
   "source": [
    "for curve_id, curve in fdcurves.items():\n",
    "    curve.fit_composites(protein_estimates)"
   ]
  },
  {
   "cell_type": "code",
   "execution_count": null,
   "metadata": {},
   "outputs": [],
   "source": [
    "for curve in fdcurves.values():\n",
    "    curve.plot_fits()\n",
    "    plt.show()\n",
    "    curve.print_fit_params()"
   ]
  },
  {
   "cell_type": "markdown",
   "metadata": {},
   "source": [
    "#### Computing unfolding forces\n",
    "We compute the force for each unfolding event by simulating the fitted model to the distance slightly before the unfolding event. This part is lacking an error estimation."
   ]
  },
  {
   "cell_type": "code",
   "execution_count": null,
   "metadata": {},
   "outputs": [],
   "source": [
    "for curve in fdcurves.values():\n",
    "    curve.compute_unfold_forces(build_handles_model(), build_composite_model())"
   ]
  },
  {
   "cell_type": "markdown",
   "metadata": {},
   "source": [
    "#### Result summary table\n",
    "Prints a summary table containing fitted contour length, persistence length and unfolding force for each unfolding domain. Could be prettier"
   ]
  },
  {
   "cell_type": "code",
   "execution_count": null,
   "metadata": {},
   "outputs": [],
   "source": [
    "# make a format string for the column widths\n",
    "largest_id_len = max([len(id) for id in fdcurves.keys()])\n",
    "row_format = f'{{:<{largest_id_len + 1}}}| {{:<5}}| {{:<9}}| {{:<9}}| {{:<9}}| {{}}'\n",
    "\n",
    "print(row_format.format('Curve', 'fold', 'Lc (um)', 'Lp (nm)', 'Fu (pN)', 'failed tests'))\n",
    "for curve_id, curve in fdcurves.items():\n",
    "    curve.print_result_rows(row_format)\n",
    "\n",
    "if lost_bead_fdcurves:\n",
    "    print('\\nBead losses for curves', [curve_id for curve_id in lost_bead_fdcurves.keys()])"
   ]
  },
  {
   "cell_type": "code",
   "execution_count": null,
   "metadata": {},
   "outputs": [],
   "source": []
  }
 ],
 "metadata": {
  "jupytext": {
   "formats": "ipynb,md"
  },
  "kernelspec": {
   "display_name": "Python 3",
   "language": "python",
   "name": "python3"
  },
  "language_info": {
   "codemirror_mode": {
    "name": "ipython",
    "version": 3
   },
   "file_extension": ".py",
   "mimetype": "text/x-python",
   "name": "python",
   "nbconvert_exporter": "python",
   "pygments_lexer": "ipython3",
   "version": "3.8.6"
  }
 },
 "nbformat": 4,
 "nbformat_minor": 5
}
