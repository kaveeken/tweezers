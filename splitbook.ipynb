{
 "cells": [
  {
   "cell_type": "code",
   "execution_count": 1,
   "id": "indian-difference",
   "metadata": {},
   "outputs": [],
   "source": [
    "import lumicks.pylake as lk\n",
    "import matplotlib.pyplot as plt\n",
    "import numpy as np\n",
    "d = lk.File(\"Data/TrmD_Marker24.h5\")\n",
    "channel = d.downsampled_force1"
   ]
  },
  {
   "cell_type": "code",
   "execution_count": 2,
   "id": "ranging-stranger",
   "metadata": {},
   "outputs": [
    {
     "data": {
      "application/vnd.jupyter.widget-view+json": {
       "model_id": "c921608171a24444b462d26bd8b62795",
       "version_major": 2,
       "version_minor": 0
      },
      "text/plain": [
       "Canvas(toolbar=Toolbar(toolitems=[('Home', 'Reset original view', 'home', 'home'), ('Back', 'Back to previous …"
      ]
     },
     "metadata": {},
     "output_type": "display_data"
    }
   ],
   "source": [
    "%matplotlib widget\n",
    "selector = channel.range_selector"
   ]
  },
  {
   "cell_type": "code",
   "execution_count": 3,
   "id": "postal-project",
   "metadata": {},
   "outputs": [
    {
     "data": {
      "application/vnd.jupyter.widget-view+json": {
       "model_id": "4bb76d9d4ff64b23a4dc2d0bf1c8a977",
       "version_major": 2,
       "version_minor": 0
      },
      "text/plain": [
       "Canvas(toolbar=Toolbar(toolitems=[('Home', 'Reset original view', 'home', 'home'), ('Back', 'Back to previous …"
      ]
     },
     "metadata": {},
     "output_type": "display_data"
    }
   ],
   "source": [
    "channel = selector.slices[0]\n",
    "plt.figure()\n",
    "channel.plot()"
   ]
  },
  {
   "cell_type": "code",
   "execution_count": 4,
   "id": "departmental-doctrine",
   "metadata": {},
   "outputs": [
    {
     "data": {
      "application/vnd.jupyter.widget-view+json": {
       "model_id": "54e7d280e9534cb099c367b0d70130b3",
       "version_major": 2,
       "version_minor": 0
      },
      "text/plain": [
       "Canvas(toolbar=Toolbar(toolitems=[('Home', 'Reset original view', 'home', 'home'), ('Back', 'Back to previous …"
      ]
     },
     "metadata": {},
     "output_type": "display_data"
    }
   ],
   "source": [
    "%matplotlib widget\n",
    "sel2 = selector.slices[0].range_selector"
   ]
  },
  {
   "cell_type": "code",
   "execution_count": 5,
   "id": "decimal-optimum",
   "metadata": {},
   "outputs": [
    {
     "data": {
      "text/plain": [
       "array([[1606227370549235800, 1606227376182247000],\n",
       "       [1606227376403149400, 1606227381594355800]])"
      ]
     },
     "execution_count": 5,
     "metadata": {},
     "output_type": "execute_result"
    }
   ],
   "source": [
    "sel2.ranges"
   ]
  },
  {
   "cell_type": "code",
   "execution_count": 6,
   "id": "african-looking",
   "metadata": {},
   "outputs": [],
   "source": [
    "from util import average_around\n",
    "smoothed_forces = []\n",
    "for sel_range in sel2.ranges[:1]:\n",
    "    forces = d.force1x[slice(*sel_range)].data\n",
    "    kernel = np.ones(len(forces)) / 50\n",
    "    smoothed_forces.append(np.convolve(forces, kernel, mode='same'))\n"
   ]
  },
  {
   "cell_type": "code",
   "execution_count": null,
   "id": "tender-compatibility",
   "metadata": {},
   "outputs": [],
   "source": [
    "plt.figure()\n",
    "d.distance1[sel2.ranges[0][0]:sel2.ranges[0][1]].plot()\n",
    "plt.figure()\n",
    "plt.plot(smoothed_forces[0])"
   ]
  },
  {
   "cell_type": "code",
   "execution_count": null,
   "id": "specialized-gibson",
   "metadata": {},
   "outputs": [],
   "source": [
    "hfile = lk.File('test.h5','w')\n",
    "hfile.create_dataset('dataset_1', data=)"
   ]
  },
  {
   "cell_type": "code",
   "execution_count": null,
   "id": "amino-ordinary",
   "metadata": {},
   "outputs": [],
   "source": []
  }
 ],
 "metadata": {
  "kernelspec": {
   "display_name": "Python 3",
   "language": "python",
   "name": "python3"
  },
  "language_info": {
   "codemirror_mode": {
    "name": "ipython",
    "version": 3
   },
   "file_extension": ".py",
   "mimetype": "text/x-python",
   "name": "python",
   "nbconvert_exporter": "python",
   "pygments_lexer": "ipython3",
   "version": "3.8.6"
  }
 },
 "nbformat": 4,
 "nbformat_minor": 5
}
