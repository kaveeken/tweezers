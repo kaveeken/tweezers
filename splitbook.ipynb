{
 "cells": [
  {
   "cell_type": "code",
   "execution_count": 32,
   "metadata": {},
   "outputs": [],
   "source": [
    "import lumicks.pylake as lk\n",
    "import matplotlib.pyplot as plt\n",
    "import numpy as np\n",
    "d = lk.File(\"Data/TrmD_marker24.h5\")"
   ]
  },
  {
   "cell_type": "code",
   "execution_count": 33,
   "metadata": {},
   "outputs": [
    {
     "data": {
      "application/vnd.jupyter.widget-view+json": {
       "model_id": "4864db5a6ccc4d61a52d9feacf3cdb87",
       "version_major": 2,
       "version_minor": 0
      },
      "text/plain": [
       "Canvas(toolbar=Toolbar(toolitems=[('Home', 'Reset original view', 'home', 'home'), ('Back', 'Back to previous …"
      ]
     },
     "metadata": {},
     "output_type": "display_data"
    }
   ],
   "source": [
    "channel = d.downsampled_force2\n",
    "%matplotlib widget\n",
    "zoomer = channel.range_selector"
   ]
  },
  {
   "cell_type": "code",
   "execution_count": 34,
   "metadata": {},
   "outputs": [
    {
     "data": {
      "text/plain": [
       "array([[1606227196588595800, 1606227263080218200],\n",
       "       [1606227324932890200, 1606227355859226200]])"
      ]
     },
     "execution_count": 34,
     "metadata": {},
     "output_type": "execute_result"
    }
   ],
   "source": [
    "zoomer.ranges"
   ]
  },
  {
   "cell_type": "code",
   "execution_count": 35,
   "metadata": {},
   "outputs": [],
   "source": [
    "class fholder:\n",
    "    def __init__(self,f):\n",
    "        self.f = f"
   ]
  },
  {
   "cell_type": "code",
   "execution_count": 36,
   "metadata": {},
   "outputs": [
    {
     "name": "stdout",
     "output_type": "stream",
     "text": [
      "<lumicks.pylake.channel.Slice object at 0x7ff9ee007b80>\n"
     ]
    },
    {
     "data": {
      "application/vnd.jupyter.widget-view+json": {
       "model_id": "fb8d321ad69f46028236b4f32ba62c8b",
       "version_major": 2,
       "version_minor": 0
      },
      "text/plain": [
       "Canvas(toolbar=Toolbar(toolitems=[('Home', 'Reset original view', 'home', 'home'), ('Back', 'Back to previous …"
      ]
     },
     "metadata": {},
     "output_type": "display_data"
    },
    {
     "data": {
      "application/vnd.jupyter.widget-view+json": {
       "model_id": "eeaf99b3c46d48baba4c2fe5fb805696",
       "version_major": 2,
       "version_minor": 0
      },
      "text/plain": [
       "interactive(children=(Dropdown(description='curve', options=('zoom0', 'zoom1'), value='zoom0'), Output()), _do…"
      ]
     },
     "metadata": {},
     "output_type": "display_data"
    }
   ],
   "source": [
    "%matplotlib widget\n",
    "channel = zoomer.slices[0]\n",
    "print(zoomer.slices[0])\n",
    "slicedict = {f'zoom{i}': fholder(d.downsampled_force2[slice(*zoomer.ranges[i])]) for i in range(len(zoomer.ranges))}\n",
    "selector = lk.FdRangeSelector(slicedict)\n",
    "plt.show()\n",
    "#for channel in selector.slices:\n",
    " #   plt.figure()\n",
    " #   channel.plot()\n"
   ]
  },
  {
   "cell_type": "code",
   "execution_count": 37,
   "metadata": {},
   "outputs": [
    {
     "data": {
      "text/plain": [
       "{'zoom0': array([], dtype=float64),\n",
       " 'zoom1': array([[1606227339070643800, 1606227343599143000],\n",
       "        [1606227344703655000, 1606227348790349400],\n",
       "        [1606227349894861400, 1606227354312909400]])}"
      ]
     },
     "execution_count": 37,
     "metadata": {},
     "output_type": "execute_result"
    }
   ],
   "source": [
    "selector.ranges"
   ]
  },
  {
   "cell_type": "code",
   "execution_count": 38,
   "metadata": {},
   "outputs": [
    {
     "data": {
      "text/plain": [
       "[array([1606227339070643800, 1606227343599143000]),\n",
       " array([1606227344703655000, 1606227348790349400]),\n",
       " array([1606227349894861400, 1606227354312909400])]"
      ]
     },
     "execution_count": 38,
     "metadata": {},
     "output_type": "execute_result"
    }
   ],
   "source": [
    "flat_ranges = []\n",
    "for array in [selector.ranges[key] for key in selector.ranges]:\n",
    "    for item in array:\n",
    "        flat_ranges.append(item)\n",
    "flat_ranges"
   ]
  },
  {
   "cell_type": "code",
   "execution_count": 52,
   "metadata": {},
   "outputs": [
    {
     "name": "stdout",
     "output_type": "stream",
     "text": [
      "[0.08595468 0.08931438 0.10032504 0.14572128 0.17928564 0.20350278\n",
      " 0.22094294 0.23441026 0.24599782 0.25629955 0.25792856 0.2672371\n",
      " 0.27168226 0.27963577 0.28758285 0.28889547 0.29127793 0.29478793\n",
      " 0.29369526 0.29135934 0.29314681 0.29274247 0.29500251 0.29556285\n",
      " 0.29650821 0.29483476 0.30353676 0.30143361 0.29740656 0.29407396\n",
      " 0.28994119 0.28410726 0.27747598 0.27216664 0.26129722 0.24469721\n",
      " 0.23292681 0.21650846 0.19364935 0.16074161 0.12524191]\n"
     ]
    },
    {
     "data": {
      "application/vnd.jupyter.widget-view+json": {
       "model_id": "ea66237e2b1f47d3bc6ee92bba980216",
       "version_major": 2,
       "version_minor": 0
      },
      "text/plain": [
       "Canvas(toolbar=Toolbar(toolitems=[('Home', 'Reset original view', 'home', 'home'), ('Back', 'Back to previous …"
      ]
     },
     "metadata": {},
     "output_type": "display_data"
    }
   ],
   "source": [
    "fdc = lk.fdcurve.FDCurve(d, flat_ranges[0][0], flat_ranges[0][1], 'test', force = 2, distance = 1)\n",
    "print(fdc.d.data)\n",
    "d.fdcurves['test'] = fdc\n",
    "plt.figure()\n",
    "plt.plot(fdc.d.data, fdc.f.data)\n",
    "plt.show()"
   ]
  },
  {
   "cell_type": "code",
   "execution_count": 50,
   "metadata": {},
   "outputs": [],
   "source": [
    "smoothed_forces = []\n",
    "interp_distances = []\n",
    "kernel_size = 1\n",
    "target = 5000\n",
    "for sel_range in flat_ranges:\n",
    "    slc = slice(*sel_range)\n",
    "    forces = d.force1x[slc].data\n",
    "    step = int(len(forces) / target)\n",
    "    timestamps = d.force1x[slc].timestamps\n",
    "    kernel = np.ones(kernel_size) / kernel_size\n",
    "    smoothed_forces.append(np.convolve(forces, kernel, mode='same'))\n",
    "    interp_distances.append(np.interp(timestamps, d.downsampled_force1[slc].timestamps,\n",
    "                                     d.distance1[slc].data))\n"
   ]
  },
  {
   "cell_type": "code",
   "execution_count": 51,
   "metadata": {},
   "outputs": [
    {
     "data": {
      "application/vnd.jupyter.widget-view+json": {
       "model_id": "af1f96759b7b4116bb0e343a8b845e60",
       "version_major": 2,
       "version_minor": 0
      },
      "text/plain": [
       "Canvas(toolbar=Toolbar(toolitems=[('Home', 'Reset original view', 'home', 'home'), ('Back', 'Back to previous …"
      ]
     },
     "metadata": {},
     "output_type": "display_data"
    },
    {
     "data": {
      "application/vnd.jupyter.widget-view+json": {
       "model_id": "76a5185e186a406bb80e5377e7367650",
       "version_major": 2,
       "version_minor": 0
      },
      "text/plain": [
       "Canvas(toolbar=Toolbar(toolitems=[('Home', 'Reset original view', 'home', 'home'), ('Back', 'Back to previous …"
      ]
     },
     "metadata": {},
     "output_type": "display_data"
    },
    {
     "name": "stdout",
     "output_type": "stream",
     "text": [
      "5055 5055\n"
     ]
    }
   ],
   "source": [
    "step = 70\n",
    "plt.figure()\n",
    "plt.plot(interp_distances[0][::step])\n",
    "plt.figure()\n",
    "plt.plot(smoothed_forces[0][::step])\n",
    "print(len(interp_distances[0][::step]), len(smoothed_forces[0][::step]))"
   ]
  },
  {
   "cell_type": "code",
   "execution_count": null,
   "metadata": {},
   "outputs": [],
   "source": [
    "hfile = lk.File('test.h5','w')\n",
    "for \n",
    "hfile.create_dataset('curve_1', data=)"
   ]
  },
  {
   "cell_type": "code",
   "execution_count": null,
   "metadata": {},
   "outputs": [],
   "source": [
    "print(d)"
   ]
  },
  {
   "cell_type": "code",
   "execution_count": null,
   "metadata": {},
   "outputs": [],
   "source": []
  }
 ],
 "metadata": {
  "kernelspec": {
   "display_name": "Python 3",
   "language": "python",
   "name": "python3"
  },
  "language_info": {
   "codemirror_mode": {
    "name": "ipython",
    "version": 3
   },
   "file_extension": ".py",
   "mimetype": "text/x-python",
   "name": "python",
   "nbconvert_exporter": "python",
   "pygments_lexer": "ipython3",
   "version": "3.8.6"
  }
 },
 "nbformat": 4,
 "nbformat_minor": 5
}
