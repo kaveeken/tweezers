{
 "cells": [
  {
   "cell_type": "code",
   "execution_count": 37,
   "id": "indian-difference",
   "metadata": {},
   "outputs": [],
   "source": [
    "import lumicks.pylake as lk\n",
    "import matplotlib.pyplot as plt\n",
    "import numpy as np\n",
    "d = lk.File(\"Data/TrmD_Marker24.h5\")"
   ]
  },
  {
   "cell_type": "code",
   "execution_count": 38,
   "id": "ranging-stranger",
   "metadata": {},
   "outputs": [
    {
     "data": {
      "application/vnd.jupyter.widget-view+json": {
       "model_id": "8aafc206ae604e15b02e6f6b4f16e89d",
       "version_major": 2,
       "version_minor": 0
      },
      "text/plain": [
       "Canvas(toolbar=Toolbar(toolitems=[('Home', 'Reset original view', 'home', 'home'), ('Back', 'Back to previous …"
      ]
     },
     "metadata": {},
     "output_type": "display_data"
    }
   ],
   "source": [
    "channel = d.downsampled_force1\n",
    "%matplotlib widget\n",
    "zoomer = channel.range_selector"
   ]
  },
  {
   "cell_type": "code",
   "execution_count": 43,
   "id": "instant-girlfriend",
   "metadata": {},
   "outputs": [
    {
     "data": {
      "text/plain": [
       "array([[1606227212604019800, 1606227241984039000],\n",
       "       [1606227282188275800, 1606227305383027800],\n",
       "       [1606227348679898200, 1606227408986253400],\n",
       "       [1606227452283123800, 1606227481663143000]])"
      ]
     },
     "execution_count": 43,
     "metadata": {},
     "output_type": "execute_result"
    }
   ],
   "source": [
    "zoomer.ranges"
   ]
  },
  {
   "cell_type": "code",
   "execution_count": 49,
   "id": "prime-attendance",
   "metadata": {},
   "outputs": [],
   "source": [
    "class fholder:\n",
    "    def __init__(self,f):\n",
    "        self.f = f"
   ]
  },
  {
   "cell_type": "code",
   "execution_count": 52,
   "id": "postal-project",
   "metadata": {},
   "outputs": [
    {
     "name": "stdout",
     "output_type": "stream",
     "text": [
      "<lumicks.pylake.channel.Slice object at 0x7fc1a9f77ee0>\n"
     ]
    },
    {
     "data": {
      "application/vnd.jupyter.widget-view+json": {
       "model_id": "4c1ba60d66dc4bcfae2fae91096a0ec9",
       "version_major": 2,
       "version_minor": 0
      },
      "text/plain": [
       "Canvas(toolbar=Toolbar(toolitems=[('Home', 'Reset original view', 'home', 'home'), ('Back', 'Back to previous …"
      ]
     },
     "metadata": {},
     "output_type": "display_data"
    },
    {
     "data": {
      "application/vnd.jupyter.widget-view+json": {
       "model_id": "09a79f00419b43bb983bd327a35be596",
       "version_major": 2,
       "version_minor": 0
      },
      "text/plain": [
       "interactive(children=(Dropdown(description='curve', options=('zoom0', 'zoom1', 'zoom2', 'zoom3'), value='zoom0…"
      ]
     },
     "metadata": {},
     "output_type": "display_data"
    }
   ],
   "source": [
    "%matplotlib widget\n",
    "channel = zoomer.slices[0]\n",
    "print(zoomer.slices[0])\n",
    "slicedict = {f'zoom{i}': fholder(d.downsampled_force1[slice(*zoomer.ranges[i])]) for i in range(len(zoomer.ranges))}\n",
    "selector = lk.FdRangeSelector(slicedict)\n",
    "plt.show()\n",
    "#for channel in selector.slices:\n",
    " #   plt.figure()\n",
    " #   channel.plot()\n"
   ]
  },
  {
   "cell_type": "code",
   "execution_count": 53,
   "id": "engaged-cameroon",
   "metadata": {},
   "outputs": [
    {
     "data": {
      "text/plain": [
       "{'zoom0': array([[1606227215807104600, 1606227220666957400],\n",
       "        [1606227220777408600, 1606227225416359000],\n",
       "        [1606227225858163800, 1606227230497114200],\n",
       "        [1606227230828467800, 1606227235246515800],\n",
       "        [1606227235909223000, 1606227240106368600]]),\n",
       " 'zoom1': array([[1606227284397299800, 1606227288815347800],\n",
       "        [1606227289146701400, 1606227293564749400],\n",
       "        [1606227294117005400, 1606227298535053400],\n",
       "        [1606227298976858200, 1606227303505357400]]),\n",
       " 'zoom2': array([[1606227349453056600, 1606227354644263000],\n",
       "        [1606227355306970200, 1606227359835469400],\n",
       "        [1606227360719079000, 1606227365468480600],\n",
       "        [1606227366020736600, 1606227370659687000],\n",
       "        [1606227371543296600, 1606227376071795800],\n",
       "        [1606227376513600600, 1606227381373453400],\n",
       "        [1606227382146611800, 1606227386564659800],\n",
       "        [1606227387006464600, 1606227391866317400],\n",
       "        [1606227392529024600, 1606227397278426200],\n",
       "        [1606227398272487000, 1606227402359181400],\n",
       "        [1606227403021888600, 1606227408213095000]]),\n",
       " 'zoom3': array([[1606227456590720600, 1606227461671475800],\n",
       "        [1606227462223731800, 1606227466862682200],\n",
       "        [1606227467304487000, 1606227472164339800],\n",
       "        [1606227472606144600, 1606227477907802200]])}"
      ]
     },
     "execution_count": 53,
     "metadata": {},
     "output_type": "execute_result"
    }
   ],
   "source": [
    "selector.ranges"
   ]
  },
  {
   "cell_type": "code",
   "execution_count": 77,
   "id": "departmental-doctrine",
   "metadata": {},
   "outputs": [
    {
     "data": {
      "text/plain": [
       "slice(1606227215807104600, 1606227220666957400, None)"
      ]
     },
     "execution_count": 77,
     "metadata": {},
     "output_type": "execute_result"
    }
   ],
   "source": [
    "flat_ranges = []\n",
    "for array in [selector.ranges[key] for key in selector.ranges]:\n",
    "    for item in array:\n",
    "        flat_ranges.append(item)"
   ]
  },
  {
   "cell_type": "code",
   "execution_count": 24,
   "id": "decimal-optimum",
   "metadata": {},
   "outputs": [
    {
     "data": {
      "text/plain": [
       "array([[1606227210726349400, 1606227215696653400],\n",
       "       [1606227216248909400, 1606227220777408600]])"
      ]
     },
     "execution_count": 24,
     "metadata": {},
     "output_type": "execute_result"
    }
   ],
   "source": []
  },
  {
   "cell_type": "code",
   "execution_count": 58,
   "id": "african-looking",
   "metadata": {},
   "outputs": [],
   "source": [
    "smoothed_forces = []\n",
    "interp_distances = []\n",
    "kernel_size = 1\n",
    "target = 5000\n",
    "for sel_range in sel2.ranges:\n",
    "    slc = slice(*sel_range)\n",
    "    forces = d.force1x[slc].data\n",
    "    step = int(len(forces) / target)\n",
    "    timestamps = d.force1x[slc].timestamps\n",
    "    kernel = np.ones(kernel_size) / kernel_size\n",
    "    smoothed_forces.append(np.convolve(forces, kernel, mode='same'))\n",
    "    interp_distances.append(np.interp(timestamps, d.downsampled_force1[slc].timestamps,\n",
    "                                     d.distance1[slc].data))\n"
   ]
  },
  {
   "cell_type": "code",
   "execution_count": 65,
   "id": "tender-compatibility",
   "metadata": {},
   "outputs": [
    {
     "data": {
      "application/vnd.jupyter.widget-view+json": {
       "model_id": "3b20733a4e4443cea6a3e75ce23b00b0",
       "version_major": 2,
       "version_minor": 0
      },
      "text/plain": [
       "Canvas(toolbar=Toolbar(toolitems=[('Home', 'Reset original view', 'home', 'home'), ('Back', 'Back to previous …"
      ]
     },
     "metadata": {},
     "output_type": "display_data"
    },
    {
     "data": {
      "application/vnd.jupyter.widget-view+json": {
       "model_id": "80dd9c9a7e1446b38309a6484c95a8fd",
       "version_major": 2,
       "version_minor": 0
      },
      "text/plain": [
       "Canvas(toolbar=Toolbar(toolitems=[('Home', 'Reset original view', 'home', 'home'), ('Back', 'Back to previous …"
      ]
     },
     "metadata": {},
     "output_type": "display_data"
    },
    {
     "name": "stdout",
     "output_type": "stream",
     "text": [
      "5178 5178\n"
     ]
    }
   ],
   "source": [
    "step = 70\n",
    "plt.figure()\n",
    "plt.plot(interp_distances[0][::step])\n",
    "plt.figure()\n",
    "plt.plot(smoothed_forces[0][::step])\n",
    "print(len(interp_distances[0][::step]), len(smoothed_forces[0][::step]))"
   ]
  },
  {
   "cell_type": "code",
   "execution_count": 13,
   "id": "specialized-gibson",
   "metadata": {},
   "outputs": [
    {
     "ename": "SyntaxError",
     "evalue": "invalid syntax (<ipython-input-13-9f4da05de803>, line 2)",
     "output_type": "error",
     "traceback": [
      "\u001b[0;36m  File \u001b[0;32m\"<ipython-input-13-9f4da05de803>\"\u001b[0;36m, line \u001b[0;32m2\u001b[0m\n\u001b[0;31m    hfile.create_dataset('dataset_1', data=)\u001b[0m\n\u001b[0m                                           ^\u001b[0m\n\u001b[0;31mSyntaxError\u001b[0m\u001b[0;31m:\u001b[0m invalid syntax\n"
     ]
    }
   ],
   "source": [
    "hfile = lk.File('test.h5','w')\n",
    "for \n",
    "hfile.create_dataset('curve_1', data=)"
   ]
  },
  {
   "cell_type": "code",
   "execution_count": null,
   "id": "amino-ordinary",
   "metadata": {},
   "outputs": [],
   "source": [
    "np.interp(smoothed_forces[0], d.)"
   ]
  }
 ],
 "metadata": {
  "kernelspec": {
   "display_name": "Python 3",
   "language": "python",
   "name": "python3"
  },
  "language_info": {
   "codemirror_mode": {
    "name": "ipython",
    "version": 3
   },
   "file_extension": ".py",
   "mimetype": "text/x-python",
   "name": "python",
   "nbconvert_exporter": "python",
   "pygments_lexer": "ipython3",
   "version": "3.8.6"
  }
 },
 "nbformat": 4,
 "nbformat_minor": 5
}
