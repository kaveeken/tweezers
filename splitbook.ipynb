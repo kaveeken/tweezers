{
 "cells": [
  {
   "cell_type": "code",
   "execution_count": null,
   "id": "indian-difference",
   "metadata": {},
   "outputs": [],
   "source": [
    "import lumicks.pylake as lk\n",
    "import matplotlib.pyplot as plt\n",
    "import numpy as np\n",
    "d = lk.File(\"Data/TrmD_Marker26.h5\")"
   ]
  },
  {
   "cell_type": "code",
   "execution_count": null,
   "id": "ranging-stranger",
   "metadata": {},
   "outputs": [],
   "source": [
    "channel = d.downsampled_force2\n",
    "%matplotlib widget\n",
    "zoomer = channel.range_selector"
   ]
  },
  {
   "cell_type": "code",
   "execution_count": null,
   "id": "instant-girlfriend",
   "metadata": {},
   "outputs": [],
   "source": [
    "zoomer.ranges"
   ]
  },
  {
   "cell_type": "code",
   "execution_count": null,
   "id": "prime-attendance",
   "metadata": {},
   "outputs": [],
   "source": [
    "class fholder:\n",
    "    def __init__(self,f):\n",
    "        self.f = f"
   ]
  },
  {
   "cell_type": "code",
   "execution_count": null,
   "id": "postal-project",
   "metadata": {},
   "outputs": [],
   "source": [
    "%matplotlib widget\n",
    "channel = zoomer.slices[0]\n",
    "print(zoomer.slices[0])\n",
    "slicedict = {f'zoom{i}': fholder(d.downsampled_force2[slice(*zoomer.ranges[i])]) for i in range(len(zoomer.ranges))}\n",
    "selector = lk.FdRangeSelector(slicedict)\n",
    "plt.show()\n",
    "#for channel in selector.slices:\n",
    " #   plt.figure()\n",
    " #   channel.plot()\n"
   ]
  },
  {
   "cell_type": "code",
   "execution_count": null,
   "id": "engaged-cameroon",
   "metadata": {},
   "outputs": [],
   "source": [
    "selector.ranges"
   ]
  },
  {
   "cell_type": "code",
   "execution_count": null,
   "id": "departmental-doctrine",
   "metadata": {},
   "outputs": [],
   "source": [
    "flat_ranges = []\n",
    "for array in [selector.ranges[key] for key in selector.ranges]:\n",
    "    for item in array:\n",
    "        flat_ranges.append(item)\n",
    "flat_ranges"
   ]
  },
  {
   "cell_type": "code",
   "execution_count": null,
   "id": "african-looking",
   "metadata": {},
   "outputs": [],
   "source": [
    "smoothed_forces = []\n",
    "interp_distances = []\n",
    "kernel_size = 1\n",
    "target = 5000\n",
    "for sel_range in flat_ranges:\n",
    "    slc = slice(*sel_range)\n",
    "    forces = d.force1x[slc].data\n",
    "    step = int(len(forces) / target)\n",
    "    timestamps = d.force1x[slc].timestamps\n",
    "    kernel = np.ones(kernel_size) / kernel_size\n",
    "    smoothed_forces.append(np.convolve(forces, kernel, mode='same'))\n",
    "    interp_distances.append(np.interp(timestamps, d.downsampled_force1[slc].timestamps,\n",
    "                                     d.distance1[slc].data))\n"
   ]
  },
  {
   "cell_type": "code",
   "execution_count": null,
   "id": "tender-compatibility",
   "metadata": {},
   "outputs": [],
   "source": [
    "step = 70\n",
    "plt.figure()\n",
    "plt.plot(interp_distances[0][::step])\n",
    "plt.figure()\n",
    "plt.plot(smoothed_forces[0][::step])\n",
    "print(len(interp_distances[0][::step]), len(smoothed_forces[0][::step]))"
   ]
  },
  {
   "cell_type": "code",
   "execution_count": null,
   "id": "specialized-gibson",
   "metadata": {},
   "outputs": [],
   "source": [
    "hfile = lk.File('test.h5','w')\n",
    "for \n",
    "hfile.create_dataset('curve_1', data=)"
   ]
  },
  {
   "cell_type": "code",
   "execution_count": null,
   "id": "amino-ordinary",
   "metadata": {},
   "outputs": [],
   "source": [
    "print(d)"
   ]
  },
  {
   "cell_type": "code",
   "execution_count": null,
   "id": "married-subject",
   "metadata": {},
   "outputs": [],
   "source": []
  }
 ],
 "metadata": {
  "kernelspec": {
   "display_name": "Python 3",
   "language": "python",
   "name": "python3"
  },
  "language_info": {
   "codemirror_mode": {
    "name": "ipython",
    "version": 3
   },
   "file_extension": ".py",
   "mimetype": "text/x-python",
   "name": "python",
   "nbconvert_exporter": "python",
   "pygments_lexer": "ipython3",
   "version": "3.8.6"
  }
 },
 "nbformat": 4,
 "nbformat_minor": 5
}
